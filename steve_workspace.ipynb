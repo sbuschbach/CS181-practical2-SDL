{
 "cells": [
  {
   "cell_type": "code",
   "execution_count": 2,
   "metadata": {
    "collapsed": false
   },
   "outputs": [],
   "source": [
    "# Example Feature Extraction from XML Files\n",
    "# We count the number of specific system calls made by the programs, and use\n",
    "# these as our features.\n",
    "\n",
    "# This code requires that the unzipped training set is in a folder called \"train\". \n",
    "\n",
    "import os\n",
    "from collections import Counter\n",
    "try:\n",
    "    import xml.etree.cElementTree as ET\n",
    "except ImportError:\n",
    "    import xml.etree.ElementTree as ET\n",
    "import numpy as np\n",
    "from scipy import sparse\n",
    "import pandas as pd\n",
    "import cPickle as pickle\n",
    "import io\n",
    "\n",
    "import util"
   ]
  },
  {
   "cell_type": "markdown",
   "metadata": {},
   "source": [
    "## Feature Extraction"
   ]
  },
  {
   "cell_type": "code",
   "execution_count": 2,
   "metadata": {
    "collapsed": false
   },
   "outputs": [],
   "source": [
    "TRAIN_DIR = \"train\"\n",
    "TEST_DIR = \"test\"\n",
    "\n",
    "call_set = pickle.load(open( \"call_set.p\", \"rb\" ))"
   ]
  },
  {
   "cell_type": "code",
   "execution_count": 96,
   "metadata": {
    "collapsed": false
   },
   "outputs": [],
   "source": [
    "def add_to_set(tree):\n",
    "    for el in tree.iter():\n",
    "        call = el.tag\n",
    "        call_set.add(call)\n",
    "\n",
    "def create_data_matrix(start_index, end_index, direc=\"train\"):\n",
    "    X = None\n",
    "    classes = []\n",
    "    ids = [] \n",
    "    i = -1\n",
    "    for datafile in os.listdir(direc):\n",
    "        if datafile == '.DS_Store':\n",
    "            continue\n",
    "\n",
    "        i += 1\n",
    "        if i < start_index:\n",
    "            continue \n",
    "        if i >= end_index:\n",
    "            break\n",
    "\n",
    "        # extract id and true class (if available) from filename\n",
    "        id_str, clazz = datafile.split('.')[:2]\n",
    "        ids.append(id_str)\n",
    "        # add target class if this is training data\n",
    "        try:\n",
    "            classes.append(util.malware_classes.index(clazz))\n",
    "\n",
    "        except ValueError:\n",
    "            # we should only fail to find the label in our list of malware classes\n",
    "            # if this is test data, which always has an \"X\" label\n",
    "            assert clazz == \"X\"\n",
    "            classes.append(-1)\n",
    "\n",
    "        # parse file as an xml document\n",
    "        tree = ET.parse(os.path.join(direc,datafile))\n",
    "        # add_to_set(tree)\n",
    "        this_row = call_feats(tree)\n",
    "        if X is None:\n",
    "            X = this_row \n",
    "        else:\n",
    "            X = np.vstack((X, this_row))\n",
    "\n",
    "    return X, np.array(classes), ids\n",
    "\n",
    "def call_feats(tree):\n",
    "    good_calls = list(call_set)\n",
    "    \n",
    "    call_counter = {}\n",
    "    for el in tree.iter():\n",
    "        call = el.tag\n",
    "        if call not in call_counter:\n",
    "            call_counter[call] = 0\n",
    "        else:\n",
    "            call_counter[call] += 1\n",
    "\n",
    "    call_feat_array = np.zeros(len(good_calls))\n",
    "    for i in range(len(good_calls)):\n",
    "        call = good_calls[i]\n",
    "        call_feat_array[i] = 0\n",
    "        if call in call_counter:\n",
    "            call_feat_array[i] = call_counter[call]\n",
    "\n",
    "    return call_feat_array"
   ]
  },
  {
   "cell_type": "code",
   "execution_count": 97,
   "metadata": {
    "collapsed": false
   },
   "outputs": [],
   "source": [
    "## Feature extraction\n",
    "def main():\n",
    "    # SAVE TRAINING DATA\n",
    "    X_train, t_train, train_ids = create_data_matrix(0, 3086, direc=TRAIN_DIR)\n",
    "    X_train = pd.DataFrame(X_train)\n",
    "    t_train = pd.DataFrame(t_train, columns=['class'])\n",
    "    train_ids = pd.DataFrame(train_ids,columns=['id'])\n",
    "          \n",
    "    filename1 = 'X_train.p'\n",
    "    filename2 = 't_train.p'\n",
    "    filename3 = 'train_ids.p'\n",
    "    \n",
    "    pickle.dump(X_train, io.open(filename1, 'wb'))\n",
    "    pickle.dump(t_train, io.open(filename2, 'wb'))\n",
    "    pickle.dump(train_ids, io.open(filename3, 'wb'))\n",
    "    \n",
    "    # SAVE TESTING DATA\n",
    "    X_test, t_test, test_ids = create_data_matrix(0, 3724, direc=TEST_DIR)\n",
    "    X_test = pd.DataFrame(X_test)\n",
    "    test_ids = pd.DataFrame(test_ids,columns=['id'])\n",
    "    \n",
    "    filename4 = 'X_test.p'\n",
    "    filename5 = 't_test.p'\n",
    "    filename6 = 'test_ids.p'\n",
    "    \n",
    "    pickle.dump(X_test, io.open(filename4, 'wb'))\n",
    "    pickle.dump(t_test, io.open(filename5, 'wb'))\n",
    "    pickle.dump(test_ids, io.open(filename6, 'wb'))"
   ]
  },
  {
   "cell_type": "code",
   "execution_count": 98,
   "metadata": {
    "collapsed": false
   },
   "outputs": [],
   "source": [
    "%%time\n",
    "if __name__ == \"__main__\":\n",
    "    main()"
   ]
  },
  {
   "cell_type": "markdown",
   "metadata": {},
   "source": [
    "## Data Modeling"
   ]
  },
  {
   "cell_type": "code",
   "execution_count": 3,
   "metadata": {
    "collapsed": true
   },
   "outputs": [],
   "source": [
    "from sklearn.linear_model import LogisticRegression\n",
    "from sklearn.ensemble import RandomForestClassifier\n",
    "\n",
    "from sklearn.grid_search import GridSearchCV"
   ]
  },
  {
   "cell_type": "code",
   "execution_count": 4,
   "metadata": {
    "collapsed": true
   },
   "outputs": [],
   "source": [
    "X_train = pickle.load(open( \"X_train.p\", \"rb\" ))\n",
    "t_train = np.squeeze(np.asarray(pickle.load(open( \"t_train.p\", \"rb\" ))))\n",
    "train_ids = np.squeeze(np.asarray(pickle.load(open( \"train_ids.p\", \"rb\" ))))\n",
    "\n",
    "X_test = pickle.load(open(\"X_test.p\", \"rb\"))\n",
    "t_test = np.squeeze(np.asarray(pickle.load(open( \"t_test.p\", \"rb\" ))))\n",
    "test_ids = np.squeeze(np.asarray(pickle.load(open( \"test_ids.p\", \"rb\" ))))"
   ]
  },
  {
   "cell_type": "markdown",
   "metadata": {},
   "source": [
    "### Logistic Regression"
   ]
  },
  {
   "cell_type": "markdown",
   "metadata": {},
   "source": [
    "##### L2 (Ridge Regression)"
   ]
  },
  {
   "cell_type": "code",
   "execution_count": 107,
   "metadata": {
    "collapsed": false
   },
   "outputs": [
    {
     "name": "stdout",
     "output_type": "stream",
     "text": [
      "[mean: 0.74076, std: 0.00125, params: {'C': 1e-05}, mean: 0.75437, std: 0.01119, params: {'C': 0.0001}, mean: 0.75178, std: 0.01359, params: {'C': 0.001}]\n",
      "0.754374594945\n"
     ]
    }
   ],
   "source": [
    "# CV optimize to pick best hyperparamters\n",
    "log_l2 = LogisticRegression(penalty='l2')\n",
    "params = {'C':[0.00001, 0.0001, 0.001]}\n",
    "log_l2 = GridSearchCV(log_l2, param_grid=params, cv=5).fit(X_train,t_train)\n",
    "print log_l2.grid_scores_\n",
    "print log_l2.best_score_"
   ]
  },
  {
   "cell_type": "code",
   "execution_count": 108,
   "metadata": {
    "collapsed": false
   },
   "outputs": [],
   "source": [
    "# Take estimator with best parameters and fit to training data\n",
    "log_l2_best = log_l2.best_estimator_\n",
    "log_l2_best = log_l2_best.fit(X_train,t_train)"
   ]
  },
  {
   "cell_type": "code",
   "execution_count": 109,
   "metadata": {
    "collapsed": false
   },
   "outputs": [],
   "source": [
    "# Predict on test data and write to file\n",
    "preds = log_l2_best.predict(X_test)\n",
    "util.write_predictions(preds, test_ids, \"logistic_l2.csv\")"
   ]
  },
  {
   "cell_type": "markdown",
   "metadata": {},
   "source": [
    "##### L1 (Lasso Regression)"
   ]
  },
  {
   "cell_type": "code",
   "execution_count": null,
   "metadata": {
    "collapsed": false
   },
   "outputs": [],
   "source": [
    "# CV optimize to pick best hyperparamters\n",
    "log_l1 = LogisticRegression(penalty='l1')\n",
    "params = {'C':[10.]}\n",
    "log_l1 = GridSearchCV(log_l1, param_grid=params, cv=5).fit(X_train,t_train)\n",
    "print log_l1.grid_scores_\n",
    "print log_l1.best_score_"
   ]
  },
  {
   "cell_type": "code",
   "execution_count": null,
   "metadata": {
    "collapsed": true
   },
   "outputs": [],
   "source": [
    "# Take estimator with best parameters and fit to training data\n",
    "log_l1_best = log_l1.best_estimator_\n",
    "log_l1_best = log_l1_best.fit(X_train,t_train)"
   ]
  },
  {
   "cell_type": "code",
   "execution_count": null,
   "metadata": {
    "collapsed": true
   },
   "outputs": [],
   "source": [
    "# Predict on test data and write to file\n",
    "preds = log_l1_best.predict(X_test)\n",
    "util.write_predictions(preds, test_ids, \"logistic_l1.csv\")"
   ]
  },
  {
   "cell_type": "markdown",
   "metadata": {},
   "source": [
    "### Random Forest Classifier"
   ]
  },
  {
   "cell_type": "code",
   "execution_count": null,
   "metadata": {
    "collapsed": true
   },
   "outputs": [],
   "source": [
    "# CV optimize to pick best hyperparameters\n",
    "rf = RandomForestClassifier(n_estimators=10,random_state=4,verbose=1)\n",
    "params = {'max_depth':[None,10,15,30],'criteron':['gini','entropy'],'max_features':[None,'auto'],\n",
    "         'min_samples_split':[2,3,5],'min_samples_leaf':[1,2,5]}\n",
    "rf = GridSearchCV(rf, param_grid=params, cv=5).fit(X_train,t_train)\n",
    "print rf.grid_scores_\n",
    "print rf.best_score_"
   ]
  },
  {
   "cell_type": "code",
   "execution_count": null,
   "metadata": {
    "collapsed": true
   },
   "outputs": [],
   "source": [
    "# Take estimator with best parameters and fit to training data\n",
    "rf_best = rf.best_estimator_\n",
    "rf_best = rf_best.fit(X_train,t_train)"
   ]
  },
  {
   "cell_type": "code",
   "execution_count": null,
   "metadata": {
    "collapsed": true
   },
   "outputs": [],
   "source": [
    "# Predict on test data and write to file\n",
    "preds = rf_best.predict(X_test)\n",
    "util.write_predictions(preds, test_ids, \"rf.csv\")"
   ]
  }
 ],
 "metadata": {
  "kernelspec": {
   "display_name": "Python 2",
   "language": "python",
   "name": "python2"
  },
  "language_info": {
   "codemirror_mode": {
    "name": "ipython",
    "version": 2
   },
   "file_extension": ".py",
   "mimetype": "text/x-python",
   "name": "python",
   "nbconvert_exporter": "python",
   "pygments_lexer": "ipython2",
   "version": "2.7.10"
  }
 },
 "nbformat": 4,
 "nbformat_minor": 0
}
